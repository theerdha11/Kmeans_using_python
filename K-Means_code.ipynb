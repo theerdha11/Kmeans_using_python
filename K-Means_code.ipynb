{
 "cells": [
  {
   "cell_type": "markdown",
   "metadata": {},
   "source": [
    "## Task 1: Prepare two test datasets"
   ]
  },
  {
   "cell_type": "code",
   "execution_count": 1,
   "metadata": {},
   "outputs": [],
   "source": [
    "import numpy as np\n",
    "import pandas as pd\n",
    "import matplotlib.pyplot as plt\n",
    "\n",
    "from scipy.spatial import distance_matrix\n",
    "\n",
    "%matplotlib inline"
   ]
  },
  {
   "cell_type": "markdown",
   "metadata": {},
   "source": [
    "### Creating a small datase of 6 datapoints\n",
    "\n",
    "The K-means clustering is used to find groups within the unlabelled data.To implement K Means clustering on paper, I am using s simple 2D dataset of 6 samples. It will be easy to calculate the centroids, and the result is predictable for this small dataset. "
   ]
  },
  {
   "cell_type": "code",
   "execution_count": 2,
   "metadata": {},
   "outputs": [
    {
     "data": {
      "text/plain": [
       "array([[ 4,  8],\n",
       "       [ 5,  5],\n",
       "       [ 4,  6],\n",
       "       [ 7,  8],\n",
       "       [ 8, 11],\n",
       "       [ 8,  9]])"
      ]
     },
     "execution_count": 2,
     "metadata": {},
     "output_type": "execute_result"
    }
   ],
   "source": [
    "A = np.array([[4, 8],[5, 5], [4, 6],[7, 8], [8, 11], [8, 9]])\n",
    "A"
   ]
  },
  {
   "cell_type": "code",
   "execution_count": 3,
   "metadata": {},
   "outputs": [
    {
     "data": {
      "image/png": "[encoded data removed]",
      "text/plain": [
       "<Figure size 432x288 with 1 Axes>"
      ]
     },
     "metadata": {
      "needs_background": "light"
     },
     "output_type": "display_data"
    }
   ],
   "source": [
    "plt.scatter(A[:,0],A[:,1])\n",
    "plt.show()"
   ]
  },
  {
   "cell_type": "markdown",
   "metadata": {},
   "source": [
    "\n",
    "\n",
    "### Large dataset - Iris Dataset\n",
    "\n",
    "I willbe using the iris dataset  which is included in scikit-learn as the large dataset."
   ]
  },
  {
   "cell_type": "code",
   "execution_count": 4,
   "metadata": {},
   "outputs": [
    {
     "name": "stdout",
     "output_type": "stream",
     "text": [
      ".. _iris_dataset:\n",
      "\n",
      "Iris plants dataset\n",
      "--------------------\n",
      "\n",
      "**Data Set Characteristics:**\n",
      "\n",
      "    :Number of Instances: 150 (50 in each of three classes)\n",
      "    :Number of Attributes: 4 numeric, predictive attributes and the class\n",
      "    :Attribute Information:\n",
      "        - sepal length in cm\n",
      "        - sepal width in cm\n",
      "        - petal length in cm\n",
      "        - petal width in cm\n",
      "        - class:\n",
      "                - Iris-Setosa\n",
      "                - Iris-Versicolour\n",
      "                - Iris-Virginica\n",
      "                \n",
      "    :Summary Statistics:\n",
      "\n",
      "    ============== ==== ==== ======= ===== ====================\n",
      "                    Min  Max   Mean    SD   Class Correlation\n",
      "    ============== ==== ==== ======= ===== ====================\n",
      "    sepal length:   4.3  7.9   5.84   0.83    0.7826\n",
      "    sepal width:    2.0  4.4   3.05   0.43   -0.4194\n",
      "    petal length:   1.0  6.9   3.76   1.76    0.9490  (high!)\n",
      "    petal width:    0.1  2.5   1.20   0.76    0.9565  (high!)\n",
      "    ============== ==== ==== ======= ===== ====================\n",
      "\n",
      "    :Missing Attribute Values: None\n",
      "    :Class Distribution: 33.3% for each of 3 classes.\n",
      "    :Creator: R.A. Fisher\n",
      "    :Donor: Michael Marshall (MARSHALL%PLU@io.arc.nasa.gov)\n",
      "    :Date: July, 1988\n",
      "\n",
      "The famous Iris database, first used by Sir R.A. Fisher. The dataset is taken\n",
      "from Fisher's paper. Note that it's the same as in R, but not as in the UCI\n",
      "Machine Learning Repository, which has two wrong data points.\n",
      "\n",
      "This is perhaps the best known database to be found in the\n",
      "pattern recognition literature.  Fisher's paper is a classic in the field and\n",
      "is referenced frequently to this day.  (See Duda & Hart, for example.)  The\n",
      "data set contains 3 classes of 50 instances each, where each class refers to a\n",
      "type of iris plant.  One class is linearly separable from the other 2; the\n",
      "latter are NOT linearly separable from each other.\n",
      "\n",
      ".. topic:: References\n",
      "\n",
      "   - Fisher, R.A. \"The use of multiple measurements in taxonomic problems\"\n",
      "     Annual Eugenics, 7, Part II, 179-188 (1936); also in \"Contributions to\n",
      "     Mathematical Statistics\" (John Wiley, NY, 1950).\n",
      "   - Duda, R.O., & Hart, P.E. (1973) Pattern Classification and Scene Analysis.\n",
      "     (Q327.D83) John Wiley & Sons.  ISBN 0-471-22361-1.  See page 218.\n",
      "   - Dasarathy, B.V. (1980) \"Nosing Around the Neighborhood: A New System\n",
      "     Structure and Classification Rule for Recognition in Partially Exposed\n",
      "     Environments\".  IEEE Transactions on Pattern Analysis and Machine\n",
      "     Intelligence, Vol. PAMI-2, No. 1, 67-71.\n",
      "   - Gates, G.W. (1972) \"The Reduced Nearest Neighbor Rule\".  IEEE Transactions\n",
      "     on Information Theory, May 1972, 431-433.\n",
      "   - See also: 1988 MLC Proceedings, 54-64.  Cheeseman et al\"s AUTOCLASS II\n",
      "     conceptual clustering system finds 3 classes in the data.\n",
      "   - Many, many more ...\n"
     ]
    }
   ],
   "source": [
    "import sys\n",
    "sys.path.append('/usr/local/lib/python3.8/site-packages')\n",
    "\n",
    "from sklearn.datasets import load_iris\n",
    "iris = load_iris()\n",
    "print(iris.DESCR)\n",
    "\n",
    "import csv\n",
    "with open('iris.csv', 'w', newline='') as csvfile:\n",
    "    writer = csv.writer(csvfile, quoting=csv.QUOTE_NONNUMERIC)\n",
    "    writer.writerow(iris.feature_names)\n",
    "    writer.writerows(iris.data.tolist())"
   ]
  },
  {
   "cell_type": "code",
   "execution_count": 5,
   "metadata": {},
   "outputs": [
    {
     "data": {
      "text/html": [
       "<div>\n",
       "<style scoped>\n",
       "    .dataframe tbody tr th:only-of-type {\n",
       "        vertical-align: middle;\n",
       "    }\n",
       "\n",
       "    .dataframe tbody tr th {\n",
       "        vertical-align: top;\n",
       "    }\n",
       "\n",
       "    .dataframe thead th {\n",
       "        text-align: right;\n",
       "    }\n",
       "</style>\n",
       "<table border=\"1\" class=\"dataframe\">\n",
       "  <thead>\n",
       "    <tr style=\"text-align: right;\">\n",
       "      <th></th>\n",
       "      <th>sepal length (cm)</th>\n",
       "      <th>sepal width (cm)</th>\n",
       "      <th>petal length (cm)</th>\n",
       "      <th>petal width (cm)</th>\n",
       "    </tr>\n",
       "  </thead>\n",
       "  <tbody>\n",
       "    <tr>\n",
       "      <th>0</th>\n",
       "      <td>5.1</td>\n",
       "      <td>3.5</td>\n",
       "      <td>1.4</td>\n",
       "      <td>0.2</td>\n",
       "    </tr>\n",
       "    <tr>\n",
       "      <th>1</th>\n",
       "      <td>4.9</td>\n",
       "      <td>3.0</td>\n",
       "      <td>1.4</td>\n",
       "      <td>0.2</td>\n",
       "    </tr>\n",
       "    <tr>\n",
       "      <th>2</th>\n",
       "      <td>4.7</td>\n",
       "      <td>3.2</td>\n",
       "      <td>1.3</td>\n",
       "      <td>0.2</td>\n",
       "    </tr>\n",
       "    <tr>\n",
       "      <th>3</th>\n",
       "      <td>4.6</td>\n",
       "      <td>3.1</td>\n",
       "      <td>1.5</td>\n",
       "      <td>0.2</td>\n",
       "    </tr>\n",
       "    <tr>\n",
       "      <th>4</th>\n",
       "      <td>5.0</td>\n",
       "      <td>3.6</td>\n",
       "      <td>1.4</td>\n",
       "      <td>0.2</td>\n",
       "    </tr>\n",
       "  </tbody>\n",
       "</table>\n",
       "</div>"
      ],
      "text/plain": [
       "   sepal length (cm)  sepal width (cm)  petal length (cm)  petal width (cm)\n",
       "0                5.1               3.5                1.4               0.2\n",
       "1                4.9               3.0                1.4               0.2\n",
       "2                4.7               3.2                1.3               0.2\n",
       "3                4.6               3.1                1.5               0.2\n",
       "4                5.0               3.6                1.4               0.2"
      ]
     },
     "execution_count": 5,
     "metadata": {},
     "output_type": "execute_result"
    }
   ],
   "source": [
    "iris_data = pd.read_csv('iris.csv')\n",
    "iris_data.head()"
   ]
  },
  {
   "cell_type": "markdown",
   "metadata": {},
   "source": [
    "## Task 3: Create a test harness"
   ]
  },
  {
   "cell_type": "code",
   "execution_count": 6,
   "metadata": {},
   "outputs": [
    {
     "data": {
      "text/plain": [
       "KMeans(n_clusters=3)"
      ]
     },
     "execution_count": 6,
     "metadata": {},
     "output_type": "execute_result"
    }
   ],
   "source": [
    "from sklearn.cluster import KMeans\n",
    "\n",
    "kmeans = KMeans(n_clusters=3)\n",
    "kmeans.fit(iris.data)\n"
   ]
  },
  {
   "cell_type": "code",
   "execution_count": 7,
   "metadata": {},
   "outputs": [
    {
     "name": "stderr",
     "output_type": "stream",
     "text": [
      "....\n",
      "----------------------------------------------------------------------\n",
      "Ran 4 tests in 0.227s\n",
      "\n",
      "OK\n"
     ]
    }
   ],
   "source": [
    "import unittest\n",
    "from math import sqrt\n",
    "from sklearn.cluster import KMeans\n",
    "from scipy.spatial import distance\n",
    "\n",
    "\n",
    "class centroid():\n",
    "    \n",
    "    def min_distance(X,centroids):\n",
    "        p = X.shape[0]\n",
    "        idx = np.zeros(p)\n",
    "        for i in range (p):\n",
    "            distances = np.linalg.norm(X[i]-centroids, axis=1)  # calculates the distance from centroids\n",
    "            min_dist = np.argmin(distances)  # selects the minimum distance\n",
    "        return min_dist\n",
    "    \n",
    "    def find_centroids(X, centroids): \n",
    "        p = X.shape[0] \n",
    "        k = centroids.shape[0]\n",
    "        idx = np.zeros(p)\n",
    "        for i in range (p):\n",
    "            distances = np.linalg.norm(X[i]-centroids, axis=1)\n",
    "            min_dist = np.argmin(distances)\n",
    "            idx[i] = min_dist\n",
    "        return idx\n",
    "    \n",
    "    def compute_centroids(X, idx, k):\n",
    "        p, q = X.shape\n",
    "        centroids = np.zeros((k, q))\n",
    "        for i in range(k):\n",
    "            centroids[i] = np.mean(X[idx.ravel() == i], axis = 0) # Recalculates the centroids\n",
    "        return centroids\n",
    "    \n",
    "    \n",
    "class test_kmeans_clustering(unittest.TestCase):\n",
    "    \n",
    "#Unit Testing\n",
    "    #Distance from centroid to itself\n",
    "    def test_min_distance(self):\n",
    "        centroids = np.array([[0,0]])\n",
    "        X = np.array([[0,0]])\n",
    "        self.assertEqual(centroid.min_distance(X,centroids), 0)\n",
    "        \n",
    "    #Multiple point Single cluster\n",
    "    def test_min_distance(self):\n",
    "        centroids = np.array([[1, 1]])\n",
    "        X = np.array([[0,1],[2,2],[3,2]])\n",
    "        self.assertEqual(centroid.min_distance(X,centroids), 1)\n",
    "        \n",
    "    #two cluster centres\n",
    "    def test_min_distance(self):\n",
    "        centroids = np.array([[1, 1],[2,2]])\n",
    "        X = np.array([[0,1],[2,1],[3,2]])\n",
    "        self.assertEqual(centroid.min_distance(X,centroids), 1)\n",
    "        \n",
    "    #Single cluster centre, tests if the datapoints are assigned to the right cluster  \n",
    "    def test_find_centroids(self):\n",
    "        centroids = np.array([[1, 1]])\n",
    "        X = np.array([[0,1],[2,3]])\n",
    "        kmeans = KMeans(n_clusters=1, max_iter=5)\n",
    "        kmeans = kmeans.fit(X)\n",
    "        self.assertTrue((centroid.find_centroids(X,centroids) == kmeans.cluster_centers_).any())\n",
    "        \n",
    "    #two cluster centres, tests if the datapoints are assigned to the right cluster\n",
    "    def test_find_centroids(self):\n",
    "        centroids = np.array([[1, 1],[2,2]])\n",
    "        X = np.array([[0,1],[2,3]])\n",
    "        kmeans = KMeans(n_clusters=2, max_iter=5)\n",
    "        kmeans = kmeans.fit(X)\n",
    "        self.assertTrue((centroid.find_centroids(X,centroids) == kmeans.cluster_centers_).any())\n",
    "        \n",
    "    def test_compute_centroids(self):\n",
    "        k = 1\n",
    "        centroids = np.array([[1, 1]])\n",
    "        X = np.array([[0,1],[2,1],[3,3]])\n",
    "        p, q = X.shape\n",
    "        idx = np.zeros(p)\n",
    "        centroid.compute_centroids(X,idx,k)\n",
    "        kmeans = KMeans(n_clusters=1, max_iter=5)\n",
    "        kmeans = kmeans.fit(X)\n",
    "        self.assertTrue((centroid.compute_centroids(X,idx,k) == kmeans.cluster_centers_).any())\n",
    "      \n",
    "    \n",
    "# Integration Testing        \n",
    "\n",
    "    def test_integration_test(self):\n",
    "        X = np.array([[0,1],[2,3]])\n",
    "        X1 = np.array([[0,1],[2,1],[3,3],[3,4]])\n",
    "        centroids = np.array([[1, 1],[2,2]])\n",
    "        k1 = 1\n",
    "        p, q = X1.shape\n",
    "        idx = np.zeros(p)\n",
    "        k = centroids.shape[0]\n",
    "        kmeans = KMeans(n_clusters=2, max_iter=50)\n",
    "        kmeans = kmeans.fit(X)\n",
    "        self.assertEqual(centroid.min_distance(X,centroids), 1)\n",
    "        self.assertTrue((centroid.find_centroids(X,centroids) == kmeans.cluster_centers_).any())\n",
    "        self.assertTrue((centroid.compute_centroids(X1,idx,k1) == kmeans.cluster_centers_).any())\n",
    "        \n",
    "\n",
    "if __name__ == '__main__':\n",
    "    unittest.main(argv=['this-is-ignored'], exit=False)"
   ]
  },
  {
   "cell_type": "markdown",
   "metadata": {},
   "source": [
    "## Task 4: k-means clustering in Python\n",
    "\n",
    "Now that we have the functions to implement the KMeans clustering algorithm, let us implement that and classify the iris dataset into 3 clusters. "
   ]
  },
  {
   "cell_type": "markdown",
   "metadata": {},
   "source": [
    "#### Running K-Means"
   ]
  },
  {
   "cell_type": "code",
   "execution_count": 8,
   "metadata": {},
   "outputs": [],
   "source": [
    "def run_k_means(X, first_centroids, iter_num):\n",
    "    p, q = X.shape\n",
    "    k = first_centroids.shape[0]\n",
    "    idx = np.zeros(p)\n",
    "    # first centroid:selected randomly\n",
    "    centroids = first_centroids\n",
    "    \n",
    "    for i in range(iter_num):\n",
    "        # find centroid\n",
    "        idx = centroid.find_centroids(X, centroids)\n",
    "        #update centroids\n",
    "        centroids = centroid.compute_centroids(X, idx, k)\n",
    "    \n",
    "    return idx, centroids"
   ]
  },
  {
   "cell_type": "markdown",
   "metadata": {},
   "source": [
    "Assigning the iris data to a variable X and shuffling it."
   ]
  },
  {
   "cell_type": "code",
   "execution_count": 9,
   "metadata": {},
   "outputs": [],
   "source": [
    "X=iris.data\n",
    "# we need to shuffle the iris data\n",
    "np.random.shuffle(X)"
   ]
  },
  {
   "cell_type": "markdown",
   "metadata": {},
   "source": [
    "#### Selecting initial centroids randomly"
   ]
  },
  {
   "cell_type": "code",
   "execution_count": 10,
   "metadata": {},
   "outputs": [
    {
     "data": {
      "text/plain": [
       "array([[6.4, 2.9, 4.3, 1.3],\n",
       "       [5.4, 3.9, 1.3, 0.4],\n",
       "       [6.3, 3.3, 6. , 2.5]])"
      ]
     },
     "execution_count": 10,
     "metadata": {},
     "output_type": "execute_result"
    }
   ],
   "source": [
    "import random\n",
    "\n",
    "# from the shuffled data, we are selecting 3 random centroids\n",
    "first_centroids = np.array([X[random.randint(0,50)],\n",
    "                              X[random.randint(50,100)],\n",
    "                              X[random.randint(100,150)]])\n",
    "first_centroids"
   ]
  },
  {
   "cell_type": "code",
   "execution_count": 11,
   "metadata": {},
   "outputs": [
    {
     "name": "stdout",
     "output_type": "stream",
     "text": [
      "Labels are:\n",
      " [1. 2. 1. 1. 0. 1. 0. 0. 1. 1. 2. 2. 1. 1. 0. 0. 2. 1. 0. 1. 2. 0. 0. 0.\n",
      " 2. 0. 2. 0. 0. 2. 0. 0. 0. 1. 0. 0. 2. 2. 1. 0. 0. 0. 0. 1. 2. 0. 2. 0.\n",
      " 1. 1. 0. 2. 1. 1. 1. 2. 1. 0. 0. 1. 0. 0. 1. 1. 2. 1. 2. 0. 1. 0. 1. 0.\n",
      " 0. 1. 0. 0. 2. 1. 1. 0. 2. 1. 1. 1. 1. 2. 0. 0. 2. 1. 1. 0. 1. 2. 0. 2.\n",
      " 2. 0. 2. 0. 1. 1. 1. 1. 2. 0. 0. 1. 0. 2. 1. 1. 0. 0. 1. 0. 0. 2. 1. 2.\n",
      " 2. 2. 0. 1. 1. 2. 0. 2. 2. 1. 0. 2. 1. 2. 0. 1. 0. 1. 2. 0. 0. 0. 0. 0.\n",
      " 0. 0. 2. 2. 0. 0.]\n"
     ]
    }
   ],
   "source": [
    "# Running K Means\n",
    "# using 1000 iterations to perform clustering\n",
    "idx, centroids = run_k_means(X, first_centroids, 1000)\n",
    "print('Labels are:\\n',idx)"
   ]
  },
  {
   "cell_type": "markdown",
   "metadata": {},
   "source": [
    "Now that we have run the KMeans clustering on Iris data, We can print the three cluster centres"
   ]
  },
  {
   "cell_type": "code",
   "execution_count": 12,
   "metadata": {},
   "outputs": [
    {
     "name": "stdout",
     "output_type": "stream",
     "text": [
      "Cluster Centres are:\n",
      " [[5.9016129  2.7483871  4.39354839 1.43387097]\n",
      " [5.006      3.428      1.462      0.246     ]\n",
      " [6.85       3.07368421 5.74210526 2.07105263]]\n"
     ]
    }
   ],
   "source": [
    "print('Cluster Centres are:\\n', centroids)"
   ]
  },
  {
   "cell_type": "markdown",
   "metadata": {},
   "source": [
    "#### Seperating each cluster"
   ]
  },
  {
   "cell_type": "code",
   "execution_count": 13,
   "metadata": {},
   "outputs": [
    {
     "name": "stdout",
     "output_type": "stream",
     "text": [
      "Number of samples in Cluster 1: 62\n",
      "Number of samples in Cluster 2: 50\n",
      "Number of samples in Cluster 3: 38\n"
     ]
    }
   ],
   "source": [
    "cluster1 = X[np.where(idx == 0)[0],:]\n",
    "cluster2 = X[np.where(idx == 1)[0],:]\n",
    "cluster3 = X[np.where(idx == 2)[0],:]\n",
    "print('Number of samples in Cluster 1:',len(cluster1))\n",
    "print('Number of samples in Cluster 2:',len(cluster2))\n",
    "print('Number of samples in Cluster 3:',len(cluster3))"
   ]
  },
  {
   "cell_type": "markdown",
   "metadata": {},
   "source": [
    "## Assumptions and Limitations\n",
    "\n",
    "1. The implementation uses euclidian distance for estimating clusters\n",
    "2. The implementation assumes there are 3 clusters, and selects 3 random cluster centres. "
   ]
  },
  {
   "cell_type": "markdown",
   "metadata": {},
   "source": [
    "# Visualization"
   ]
  },
  {
   "cell_type": "markdown",
   "metadata": {},
   "source": [
    "### Plotting Iris Data : Sepal Length-Sepal Width"
   ]
  },
  {
   "cell_type": "code",
   "execution_count": 14,
   "metadata": {},
   "outputs": [
    {
     "data": {
      "text/plain": [
       "<matplotlib.legend.Legend at 0x29bc57ae850>"
      ]
     },
     "execution_count": 14,
     "metadata": {},
     "output_type": "execute_result"
    },
    {
     "data": {
      "image/png": "[encoded data removed]",
      "text/plain": [
       "<Figure size 864x576 with 1 Axes>"
      ]
     },
     "metadata": {
      "needs_background": "light"
     },
     "output_type": "display_data"
    }
   ],
   "source": [
    "\n",
    "fig, ax = plt.subplots(figsize=(12,8))\n",
    "ax.scatter(X[:,0],X[:,1], s=30, color='b', label='Datapoints')\n",
    "ax.set_xlabel('Sepal Length')\n",
    "ax.set_ylabel('Sepal Width')\n",
    "ax.legend()\n"
   ]
  },
  {
   "cell_type": "markdown",
   "metadata": {},
   "source": [
    "### Plotting the clusters"
   ]
  },
  {
   "cell_type": "code",
   "execution_count": 15,
   "metadata": {},
   "outputs": [
    {
     "data": {
      "text/plain": [
       "<matplotlib.legend.Legend at 0x29bc5cbc2b0>"
      ]
     },
     "execution_count": 15,
     "metadata": {},
     "output_type": "execute_result"
    },
    {
     "data": {
      "image/png": "[encoded data removed]",
      "text/plain": [
       "<Figure size 864x576 with 1 Axes>"
      ]
     },
     "metadata": {
      "needs_background": "light"
     },
     "output_type": "display_data"
    }
   ],
   "source": [
    "fig, ax = plt.subplots(figsize=(12,8))\n",
    "ax.scatter(cluster1[:,0], cluster1[:,1], s=30, color='r', label='Cluster 1')\n",
    "ax.scatter(cluster2[:,0], cluster2[:,1], s=30, color='g', label='Cluster 2')\n",
    "ax.scatter(cluster3[:,0], cluster3[:,1], s=30, color='b', label='Cluster 3')\n",
    "ax.scatter(centroids[:,0],centroids[:,1], color = 'black', marker='X',s=50)\n",
    "ax.set_xlabel('Sepal Length')\n",
    "ax.set_ylabel('Sepal Width')\n",
    "ax.legend()"
   ]
  },
  {
   "cell_type": "markdown",
   "metadata": {},
   "source": [
    "### Plotting Iris Data : Petal Length - Petal Width"
   ]
  },
  {
   "cell_type": "code",
   "execution_count": 16,
   "metadata": {},
   "outputs": [
    {
     "data": {
      "text/plain": [
       "<matplotlib.legend.Legend at 0x29bc5d26640>"
      ]
     },
     "execution_count": 16,
     "metadata": {},
     "output_type": "execute_result"
    },
    {
     "data": {
      "image/png": "[encoded data removed]",
      "text/plain": [
       "<Figure size 864x576 with 1 Axes>"
      ]
     },
     "metadata": {
      "needs_background": "light"
     },
     "output_type": "display_data"
    }
   ],
   "source": [
    "fig, ax = plt.subplots(figsize=(12,8))\n",
    "ax.scatter(X[:,2],X[:,3], s=30, color='b', label='Datapoints')\n",
    "ax.set_xlabel('Petal Length')\n",
    "ax.set_ylabel('Petal Width')\n",
    "ax.legend()"
   ]
  },
  {
   "cell_type": "markdown",
   "metadata": {},
   "source": [
    "### Plotting the clusters"
   ]
  },
  {
   "cell_type": "code",
   "execution_count": 17,
   "metadata": {},
   "outputs": [
    {
     "data": {
      "text/plain": [
       "<matplotlib.legend.Legend at 0x29bc6073bb0>"
      ]
     },
     "execution_count": 17,
     "metadata": {},
     "output_type": "execute_result"
    },
    {
     "data": {
      "image/png": "[encoded data removed]",
      "text/plain": [
       "<Figure size 864x576 with 1 Axes>"
      ]
     },
     "metadata": {
      "needs_background": "light"
     },
     "output_type": "display_data"
    }
   ],
   "source": [
    "fig, ax = plt.subplots(figsize=(12,8))\n",
    "ax.scatter(cluster1[:,2], cluster1[:,3], s=30, color='r', label='Cluster 1')\n",
    "ax.scatter(cluster2[:,2], cluster2[:,3], s=30, color='g', label='Cluster 2')\n",
    "ax.scatter(cluster3[:,2], cluster3[:,3], s=30, color='b', label='Cluster 3')\n",
    "ax.scatter(centroids[:,2],centroids[:,3], color = 'black', marker='X',s=50)\n",
    "ax.set_xlabel('Petal Length')\n",
    "ax.set_ylabel('Petal Width')\n",
    "ax.legend()"
   ]
  },
  {
   "cell_type": "code",
   "execution_count": 28,
   "metadata": {},
   "outputs": [],
   "source": [
    "def run_k_means(X, first_centroids, iter_num):\n",
    "    p, q = X.shape\n",
    "    k = first_centroids.shape[0]\n",
    "    idx = np.zeros(p)\n",
    "    # first centroid:selected randomly\n",
    "    centroids = first_centroids\n",
    "    \n",
    "    for i in range(iter_num):\n",
    "        # find centroid\n",
    "        idx = centroid.find_centroids(X, centroids)\n",
    "        #update centroids\n",
    "        centroids = centroid.compute_centroids(X, idx, k)\n",
    "    \n",
    "    return idx, centroids"
   ]
  },
  {
   "cell_type": "code",
   "execution_count": 85,
   "metadata": {},
   "outputs": [],
   "source": [
    "X = np.array([[0,3],[0,4],[0,5],[0,6],[1,6],[2,1],[2,2],[2,3],[2,4],[2,6],[3,1],[3,6],[4,1],[4,3],[4,4],[4,5],[4,6],\n",
    "              [5,1],[6,1],[6,2],[6,3],[6,4]])\n"
   ]
  },
  {
   "cell_type": "code",
   "execution_count": 86,
   "metadata": {},
   "outputs": [
    {
     "data": {
      "image/png": "[encoded data removed]",
      "text/plain": [
       "<Figure size 432x288 with 1 Axes>"
      ]
     },
     "metadata": {
      "needs_background": "light"
     },
     "output_type": "display_data"
    }
   ],
   "source": [
    "plt.scatter(X[:,0],X[:,1])\n",
    "plt.show()"
   ]
  },
  {
   "cell_type": "code",
   "execution_count": 89,
   "metadata": {},
   "outputs": [
    {
     "data": {
      "text/plain": [
       "array([[  5,  21],\n",
       "       [  5, -14]])"
      ]
     },
     "execution_count": 89,
     "metadata": {},
     "output_type": "execute_result"
    }
   ],
   "source": [
    "import random\n",
    "\n",
    "#from the shuffled data, we are selecting 3 random centroids\n",
    "first_centroids = np.array([[5,21],[5,-14]])\n",
    "first_centroids"
   ]
  },
  {
   "cell_type": "code",
   "execution_count": 90,
   "metadata": {},
   "outputs": [
    {
     "name": "stdout",
     "output_type": "stream",
     "text": [
      "Labels are:\n",
      " [[2.36363636 5.09090909]\n",
      " [3.63636364 1.90909091]]\n"
     ]
    }
   ],
   "source": [
    "idx, centroids = run_k_means(X, first_centroids, 1)\n",
    "print('Labels are:\\n',centroids)"
   ]
  },
  {
   "cell_type": "code",
   "execution_count": 81,
   "metadata": {},
   "outputs": [
    {
     "data": {
      "text/plain": [
       "array([1., 1., 1., 1., 1., 1., 1., 1., 1., 1., 1., 1., 1., 1., 1., 1., 1.,\n",
       "       1., 1., 1., 1., 1., 0., 1.])"
      ]
     },
     "execution_count": 81,
     "metadata": {},
     "output_type": "execute_result"
    }
   ],
   "source": [
    "idx"
   ]
  },
  {
   "cell_type": "code",
   "execution_count": 82,
   "metadata": {},
   "outputs": [],
   "source": [
    "cluster1 = X[np.where(idx == 0)[0],:]\n",
    "cluster2 = X[np.where(idx == 1)[0],:]"
   ]
  },
  {
   "cell_type": "code",
   "execution_count": 83,
   "metadata": {},
   "outputs": [
    {
     "data": {
      "text/plain": [
       "array([[  2, 100]])"
      ]
     },
     "execution_count": 83,
     "metadata": {},
     "output_type": "execute_result"
    }
   ],
   "source": [
    "cluster1"
   ]
  },
  {
   "cell_type": "code",
   "execution_count": 84,
   "metadata": {},
   "outputs": [
    {
     "data": {
      "text/plain": [
       "array([[  0,   3],\n",
       "       [  0,   4],\n",
       "       [  0,   5],\n",
       "       [  0,   6],\n",
       "       [  1,   6],\n",
       "       [  2,   1],\n",
       "       [  2,   2],\n",
       "       [  2,   3],\n",
       "       [  2,   4],\n",
       "       [  2,   6],\n",
       "       [  3,   1],\n",
       "       [  3,   6],\n",
       "       [  4,   1],\n",
       "       [  4,   3],\n",
       "       [  4,   4],\n",
       "       [  4,   5],\n",
       "       [  4,   6],\n",
       "       [  5,   1],\n",
       "       [  6,   1],\n",
       "       [  6,   2],\n",
       "       [  6,   3],\n",
       "       [  6,   4],\n",
       "       [  2, -30]])"
      ]
     },
     "execution_count": 84,
     "metadata": {},
     "output_type": "execute_result"
    }
   ],
   "source": [
    "cluster2"
   ]
  },
  {
   "cell_type": "code",
   "execution_count": null,
   "metadata": {},
   "outputs": [],
   "source": []
  }
 ],
 "metadata": {
  "kernelspec": {
   "display_name": "Python 3",
   "language": "python",
   "name": "python3"
  },
  "language_info": {
   "codemirror_mode": {
    "name": "ipython",
    "version": 3
   },
   "file_extension": ".py",
   "mimetype": "text/x-python",
   "name": "python",
   "nbconvert_exporter": "python",
   "pygments_lexer": "ipython3",
   "version": "3.8.5"
  }
 },
 "nbformat": 4,
 "nbformat_minor": 4
}
